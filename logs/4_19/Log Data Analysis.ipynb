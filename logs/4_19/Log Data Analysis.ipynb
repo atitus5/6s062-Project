{
 "cells": [
  {
   "cell_type": "code",
   "execution_count": 2,
   "metadata": {
    "collapsed": false
   },
   "outputs": [],
   "source": [
    "import pandas as pd"
   ]
  },
  {
   "cell_type": "code",
   "execution_count": 3,
   "metadata": {
    "collapsed": true
   },
   "outputs": [],
   "source": [
    "%matplotlib inline"
   ]
  },
  {
   "cell_type": "code",
   "execution_count": 4,
   "metadata": {
    "collapsed": true
   },
   "outputs": [],
   "source": [
    "# Convert CSV files to pandas DataFrames\n",
    "log_dataframes = []\n",
    "for i in xrange(1, 33):\n",
    "    log_file = open(\"log%d.csv\" % i, 'r')\n",
    "    log_dataframes.append(pd.read_csv(log_file, index_col=0))\n",
    "    log_file.close()"
   ]
  },
  {
   "cell_type": "code",
   "execution_count": 5,
   "metadata": {
    "collapsed": false
   },
   "outputs": [
    {
     "name": "stdout",
     "output_type": "stream",
     "text": [
      "Left out log 1; Accuracy:1.000000\n",
      "Left out log 2; Accuracy:1.000000\n",
      "Left out log 3; Accuracy:1.000000\n",
      "Left out log 4; Accuracy:1.000000\n",
      "Left out log 5; Accuracy:1.000000\n",
      "Left out log 6; Accuracy:1.000000\n",
      "Left out log 7; Accuracy:1.000000\n",
      "Left out log 8; Accuracy:1.000000\n",
      "Left out log 9; Accuracy:1.000000\n",
      "Left out log 10; Accuracy:1.000000\n",
      "Left out log 11; Accuracy:1.000000\n",
      "Left out log 12; Accuracy:1.000000\n",
      "Left out log 13; Accuracy:1.000000\n",
      "Left out log 14; Accuracy:1.000000\n",
      "Left out log 15; Accuracy:1.000000\n",
      "Left out log 16; Accuracy:1.000000\n",
      "Left out log 17; Accuracy:1.000000\n",
      "Left out log 18; Accuracy:1.000000\n",
      "Left out log 19; Accuracy:1.000000\n",
      "Left out log 20; Accuracy:1.000000\n",
      "Left out log 21; Accuracy:1.000000\n",
      "Left out log 22; Accuracy:1.000000\n",
      "Left out log 23; Accuracy:1.000000\n",
      "Left out log 24; Accuracy:1.000000\n",
      "Left out log 25; Accuracy:1.000000\n",
      "Left out log 26; Accuracy:1.000000\n",
      "Left out log 27; Accuracy:1.000000\n",
      "Left out log 28; Accuracy:1.000000\n",
      "Left out log 29; Accuracy:1.000000\n",
      "Left out log 30; Accuracy:1.000000\n",
      "Left out log 31; Accuracy:1.000000\n",
      "Left out log 32; Accuracy:1.000000\n",
      "Average accuracy:1.000000\n"
     ]
    }
   ],
   "source": [
    "# Use SVM to classify points, using acceleration magnitude and RSSI as features\n",
    "# Prints accuracy for leave-one-out training, followed by average accuracy\n",
    "\n",
    "from sklearn import svm\n",
    "\n",
    "accuracies = []\n",
    "for left_out in xrange(len(log_dataframes)):\n",
    "    training_df = pd.DataFrame()\n",
    "    training_label_series = pd.Series()\n",
    "    for log_index in filter(lambda x: x != left_out, xrange(len(log_dataframes))):\n",
    "        acc_mags = log_dataframes[log_index][[\"Acc_X\", \"Acc_Y\", \"Acc_Z\"]].mean(axis=1)\n",
    "        training_df = training_df.append(pd.concat([acc_mags, log_dataframes[log_index][\"RSSI\"]], axis=1))\n",
    "        training_label_series = training_label_series.append(log_dataframes[log_index][\"Unlock Requested\"])\n",
    "    \n",
    "    svm_clf = svm.SVC()\n",
    "    svm_clf.fit(training_df.as_matrix(), training_label_series.values)\n",
    "    \n",
    "    acc_mags = log_dataframes[log_index][[\"Acc_X\", \"Acc_Y\", \"Acc_Z\"]].mean(axis=1)\n",
    "    target_df = pd.concat([acc_mags, log_dataframes[log_index][\"RSSI\"]], axis=1)\n",
    "    target_label_series = log_dataframes[log_index][\"Unlock Requested\"]\n",
    "    \n",
    "    #predicted = svm_clf.predict(target_df)\n",
    "    accuracy = svm_clf.score(target_df.as_matrix(), target_label_series.values)\n",
    "    print \"Left out log %d; Accuracy:%f\" % (left_out + 1, accuracy)\n",
    "    accuracies.append(accuracy)\n",
    "print \"Average accuracy:%f\" % (sum(accuracies)/len(accuracies))\n"
   ]
  },
  {
   "cell_type": "code",
   "execution_count": 8,
   "metadata": {
    "collapsed": false
   },
   "outputs": [
    {
     "name": "stdout",
     "output_type": "stream",
     "text": [
      "Left out log 1; Accuracy:1.000000\n",
      "Left out log 2; Accuracy:1.000000\n",
      "Left out log 3; Accuracy:1.000000\n",
      "Left out log 4; Accuracy:1.000000\n",
      "Left out log 5; Accuracy:1.000000\n",
      "Left out log 6; Accuracy:1.000000\n",
      "Left out log 7; Accuracy:1.000000\n",
      "Left out log 8; Accuracy:1.000000\n",
      "Left out log 9; Accuracy:1.000000\n",
      "Left out log 10; Accuracy:1.000000\n",
      "Left out log 11; Accuracy:1.000000\n",
      "Left out log 12; Accuracy:1.000000\n",
      "Left out log 13; Accuracy:1.000000\n",
      "Left out log 14; Accuracy:1.000000\n",
      "Left out log 15; Accuracy:1.000000\n",
      "Left out log 16; Accuracy:1.000000\n",
      "Left out log 17; Accuracy:1.000000\n",
      "Left out log 18; Accuracy:1.000000\n",
      "Left out log 19; Accuracy:1.000000\n",
      "Left out log 20; Accuracy:1.000000\n",
      "Left out log 21; Accuracy:1.000000\n",
      "Left out log 22; Accuracy:1.000000\n",
      "Left out log 23; Accuracy:1.000000\n",
      "Left out log 24; Accuracy:1.000000\n",
      "Left out log 25; Accuracy:1.000000\n",
      "Left out log 26; Accuracy:1.000000\n",
      "Left out log 27; Accuracy:1.000000\n",
      "Left out log 28; Accuracy:1.000000\n",
      "Left out log 29; Accuracy:1.000000\n",
      "Left out log 30; Accuracy:1.000000\n",
      "Left out log 31; Accuracy:1.000000\n",
      "Left out log 32; Accuracy:1.000000\n",
      "Average accuracy:1.000000\n"
     ]
    }
   ],
   "source": [
    "# Use decision tree and visualize tree\n",
    "from IPython.display import Image\n",
    "from sklearn.externals.six import StringIO\n",
    "from sklearn import tree\n",
    "import pydot\n",
    "\n",
    "accuracies = []\n",
    "for left_out in xrange(len(log_dataframes)):\n",
    "    training_df = pd.DataFrame()\n",
    "    training_label_series = pd.Series()\n",
    "    for log_index in filter(lambda x: x != left_out, xrange(len(log_dataframes))):\n",
    "        acc_mags = log_dataframes[log_index][[\"Acc_X\", \"Acc_Y\", \"Acc_Z\"]].mean(axis=1)\n",
    "        training_df = training_df.append(pd.concat([acc_mags, log_dataframes[log_index][\"RSSI\"]], axis=1))\n",
    "        training_label_series = training_label_series.append(log_dataframes[log_index][\"Unlock Requested\"])\n",
    "    \n",
    "    dt_clf = tree.DecisionTreeClassifier(max_depth=2)\n",
    "    dt_clf.fit(training_df.as_matrix(), training_label_series.values)\n",
    "    \n",
    "    acc_mags = log_dataframes[log_index][[\"Acc_X\", \"Acc_Y\", \"Acc_Z\"]].mean(axis=1)\n",
    "    target_df = pd.concat([acc_mags, log_dataframes[log_index][\"RSSI\"]], axis=1)\n",
    "    target_label_series = log_dataframes[log_index][\"Unlock Requested\"]\n",
    "    \n",
    "    #predicted = dt_clf.predict(target_df)\n",
    "    accuracy = dt_clf.score(target_df.as_matrix(), target_label_series.values)\n",
    "    \n",
    "    print \"Left out log %d; Accuracy:%f\" % (left_out + 1, accuracy)\n",
    "    accuracies.append(accuracy)\n",
    "    \n",
    "    '''\n",
    "    # Doesn't work with my Python distribution?\n",
    "    dot_data = StringIO()\n",
    "    tree.export_graphviz(dt_clf, out_file=dot_data) \n",
    "    graph = pydot.graph_from_dot_data(dot_data.getvalue()) \n",
    "    graph.write_pdf(\"dt%d.pdf\" % left_out)\n",
    "    '''\n",
    "                     \n",
    "print \"Average accuracy:%f\" % (sum(accuracies)/len(accuracies))"
   ]
  },
  {
   "cell_type": "code",
   "execution_count": null,
   "metadata": {
    "collapsed": true
   },
   "outputs": [],
   "source": []
  }
 ],
 "metadata": {
  "kernelspec": {
   "display_name": "Python 2",
   "language": "python",
   "name": "python2"
  },
  "language_info": {
   "codemirror_mode": {
    "name": "ipython",
    "version": 2
   },
   "file_extension": ".py",
   "mimetype": "text/x-python",
   "name": "python",
   "nbconvert_exporter": "python",
   "pygments_lexer": "ipython2",
   "version": "2.7.11"
  }
 },
 "nbformat": 4,
 "nbformat_minor": 0
}
